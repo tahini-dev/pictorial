{
 "cells": [
  {
   "cell_type": "code",
   "execution_count": null,
   "id": "e98d0fb8-d875-4dc3-b0e8-4c525ab306ad",
   "metadata": {},
   "outputs": [],
   "source": [
    "from pictorial.agg.box import box\n",
    "from pictorial.testing.data import create_test_df\n",
    "from pictorial.agg.subplots import create_subplot_by_function"
   ]
  },
  {
   "cell_type": "code",
   "execution_count": null,
   "id": "226248c4-2e1a-42f2-a076-c31cb4f7ebe3",
   "metadata": {},
   "outputs": [],
   "source": [
    "df = create_test_df(dataset='gapminder')"
   ]
  },
  {
   "cell_type": "code",
   "execution_count": null,
   "id": "5c0eed7a-05f7-483e-82db-75f5fd2b51d2",
   "metadata": {},
   "outputs": [],
   "source": [
    "df"
   ]
  },
  {
   "cell_type": "code",
   "execution_count": null,
   "id": "d0ade8db-e9aa-417a-a5cb-7f6a112c2a36",
   "metadata": {},
   "outputs": [],
   "source": [
    "fig = box(\n",
    "    df,\n",
    "    y='lifeExp',\n",
    "    x='year',\n",
    "    color='continent',\n",
    "    order_how='count',\n",
    "    order_ascending=False,\n",
    "    category_orders=dict(sex=['Female', 'Male'], time=['Lunch', 'Dinner']),\n",
    "    mean=False,\n",
    "    sd=False,\n",
    ")\n",
    "fig.show()"
   ]
  },
  {
   "cell_type": "code",
   "execution_count": null,
   "id": "85c11750-029d-4add-b9c5-0f5193b375d6",
   "metadata": {},
   "outputs": [],
   "source": [
    "import plotly.express as px"
   ]
  },
  {
   "cell_type": "code",
   "execution_count": null,
   "id": "1492e9f0-0c36-4c7c-aea2-4a81ee7b9bdf",
   "metadata": {},
   "outputs": [],
   "source": [
    "x = ['country', 'continent', 'year']     \n",
    "plot_func = lambda x: px.bar(df.groupby(x)[x].count().rename('count').reset_index(), x=x, y='count')\n",
    "create_subplot_by_function(plot_func, x, num_rows=1, num_cols=3)"
   ]
  },
  {
   "cell_type": "code",
   "execution_count": null,
   "id": "2c4db152-e2ba-4963-aae1-e223f9a61aab",
   "metadata": {},
   "outputs": [],
   "source": []
  }
 ],
 "metadata": {
  "kernelspec": {
   "display_name": "Python 3 (ipykernel)",
   "language": "python",
   "name": "python3"
  },
  "language_info": {
   "codemirror_mode": {
    "name": "ipython",
    "version": 3
   },
   "file_extension": ".py",
   "mimetype": "text/x-python",
   "name": "python",
   "nbconvert_exporter": "python",
   "pygments_lexer": "ipython3",
   "version": "3.9.7"
  }
 },
 "nbformat": 4,
 "nbformat_minor": 5
}
